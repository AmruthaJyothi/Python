{
 "cells": [
  {
   "cell_type": "markdown",
   "id": "231d9211",
   "metadata": {},
   "source": [
    "Assignment 2:\n"
   ]
  },
  {
   "cell_type": "markdown",
   "id": "cbfdc8cd",
   "metadata": {},
   "source": [
    "Topic :List\n",
    "Exercise Q1. Create a list of 5 random numbers and print the list. \n",
    "Q2. Insert 3 new values to the list and print the updated list. \n",
    "Q3. Try to use a for loop to print each element in the list."
   ]
  },
  {
   "cell_type": "code",
   "execution_count": 9,
   "id": "895ebdbb",
   "metadata": {},
   "outputs": [
    {
     "name": "stdout",
     "output_type": "stream",
     "text": [
      "[10, 23, 24, 12, 11]\n",
      "[10, 23, 24, 12, 11, 1, 2, 3]\n",
      "10\n",
      "23\n",
      "24\n",
      "12\n",
      "11\n",
      "1\n",
      "2\n",
      "3\n"
     ]
    }
   ],
   "source": [
    "lst=[10,23,24,12,11]\n",
    "print(lst)\n",
    "lst.append(1)\n",
    "lst.append(2)\n",
    "lst.append(3)\n",
    "print(lst)\n",
    "for i in lst:\n",
    "    print(i)\n"
   ]
  },
  {
   "cell_type": "markdown",
   "id": "5375f040",
   "metadata": {},
   "source": [
    "Topic: Dictionary \n",
    "Exercise Q1. Create a dictionary with keys 'name', 'age', and 'address' and values 'John', 25, and 'New York' respectively. \n",
    "Q2. Add a new key-value pair to the dictionary created in Q1 with key 'phone' and value '1234567890'."
   ]
  },
  {
   "cell_type": "code",
   "execution_count": 16,
   "id": "90b6f2ee",
   "metadata": {},
   "outputs": [
    {
     "name": "stdout",
     "output_type": "stream",
     "text": [
      "<class 'dict'>\n",
      "{'name': 'John', 'age': 25, 'address': 'New York'}\n",
      "{'name': 'John', 'age': 25, 'address': 'New York', 'phone': 1234567890}\n"
     ]
    }
   ],
   "source": [
    "dict={'name':\"John\",'age':25,'address':\"New York\"}\n",
    "print(type(dict))\n",
    "print(dict)\n",
    "dict['phone']=1234567890\n",
    "print(dict)"
   ]
  },
  {
   "cell_type": "markdown",
   "id": "6ecdd1b7",
   "metadata": {},
   "source": [
    "Topic: Set \n",
    "Exercise Q1.Create a set with values 1, 2, 3, 4, and 5. \n",
    "Q2. Add the value 6 to the set created in Q1. \n",
    "Q3. Remove the value 3 from the set created in Q1. "
   ]
  },
  {
   "cell_type": "code",
   "execution_count": 23,
   "id": "0fb35ace",
   "metadata": {},
   "outputs": [
    {
     "name": "stdout",
     "output_type": "stream",
     "text": [
      "['__and__', '__class__', '__class_getitem__', '__contains__', '__delattr__', '__dir__', '__doc__', '__eq__', '__format__', '__ge__', '__getattribute__', '__gt__', '__hash__', '__iand__', '__init__', '__init_subclass__', '__ior__', '__isub__', '__iter__', '__ixor__', '__le__', '__len__', '__lt__', '__ne__', '__new__', '__or__', '__rand__', '__reduce__', '__reduce_ex__', '__repr__', '__ror__', '__rsub__', '__rxor__', '__setattr__', '__sizeof__', '__str__', '__sub__', '__subclasshook__', '__xor__', 'add', 'clear', 'copy', 'difference', 'difference_update', 'discard', 'intersection', 'intersection_update', 'isdisjoint', 'issubset', 'issuperset', 'pop', 'remove', 'symmetric_difference', 'symmetric_difference_update', 'union', 'update']\n",
      "{1, 2, 3, 4, 5, 6}\n",
      "{1, 2, 4, 5, 6}\n"
     ]
    }
   ],
   "source": [
    "sett={1,2,3,4,5}\n",
    "print(dir(sett))\n",
    "sett.add(6)\n",
    "print(sett)\n",
    "sett.remove(3)\n",
    "print(sett)"
   ]
  },
  {
   "cell_type": "markdown",
   "id": "91cd1edf",
   "metadata": {},
   "source": [
    "Topic:Tuple \n",
    "Exercise Q1. Create a tuple with values 1, 2, 3, and 4 \n",
    "Q2. Print the length of the tuple created in Q1."
   ]
  },
  {
   "cell_type": "code",
   "execution_count": 27,
   "id": "30dde3ca",
   "metadata": {},
   "outputs": [
    {
     "name": "stdout",
     "output_type": "stream",
     "text": [
      "4\n"
     ]
    }
   ],
   "source": [
    "tup=(1,2,3,4)\n",
    "print(len(tup))"
   ]
  },
  {
   "cell_type": "code",
   "execution_count": null,
   "id": "f5931d9b",
   "metadata": {},
   "outputs": [],
   "source": []
  }
 ],
 "metadata": {
  "kernelspec": {
   "display_name": "Python 3 (ipykernel)",
   "language": "python",
   "name": "python3"
  },
  "language_info": {
   "codemirror_mode": {
    "name": "ipython",
    "version": 3
   },
   "file_extension": ".py",
   "mimetype": "text/x-python",
   "name": "python",
   "nbconvert_exporter": "python",
   "pygments_lexer": "ipython3",
   "version": "3.9.12"
  }
 },
 "nbformat": 4,
 "nbformat_minor": 5
}
