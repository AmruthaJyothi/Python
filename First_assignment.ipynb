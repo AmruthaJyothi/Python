{
 "cells": [
  {
   "cell_type": "markdown",
   "id": "e04b2570",
   "metadata": {},
   "source": [
    "#Assignment 1\n",
    "Exercise 1 Write Python code that prints your name, student number and email address. An example runs of the program: Bob ST1001 bob@gmail.com \n",
    "Exercise 2 Write Python code that prints your name, student number and email address using escape sequences. An example runs of the program: Bob ST1001 bob@gmail.com \n",
    "Exercise 3 Write Python code that add, subtract, multiply and divide the two numbers. You can use the two numbers 14 and 7. An example run of the program: 14 + 7 = 21 14 * 7 = 98 14 – 7 = 7 14 / 7 = 2 \n",
    "Exercise 4 Write Python code that displays the numbers from 1 to 5 as steps. An example runs of the program: 1 2 3 4 5 \n",
    "Exercise 5 Write Python code that outputs the following sentence (including the quotation marks and line break) to the screen: An example runs of the program: \"SDK\" stands for \"Software Development Kit\", whereas \"IDE\" stands for \"Integrated Development Environment\".\n",
    " Exercise 6 Practice and check the output print(\"python is an \\\"awesome\\\" language.\") print(\"python\\n\\t2023\") print('I\\'m from Entri.\\b') print(\"\\65\") print(\"\\x65\") print(\"Entri\", \"2023\", sep=\"\\n\") print(\"Entri\", \"2023\", sep=\"\\b\") print(\"Entri\", \"2023\", sep=\"*\", end=\"\\b\\b\\b\\b\")\n",
    " Exercise 7 Define the variables below. Print the types of each variable. What is the sum of your variables? (Hint: use a type conversion function.) What datatype is the sum? num=23 textnum=\"57\" decimal=98.3 \n",
    " Exercise 8 calculate the number of minutes in a year using variables for each unit of time. print a statement that describes what your code does also. Create three variables to store no of days in a year, minute in a hour, hours in a day, then calculate the total minutes in a year and print the values (hint) total number of minutes in an year =No.of days in an year * Hours in a day * Minutes in an hour \n",
    " Exercise 9 Write Python code that asks the user to enter his/her name and then output/prints his/her name with a greeting. An example runs of the program: Please enter you name: Tony Hi Tony, welcome to Python programming :) \n",
    " Exercise 10 Name your file: PoundsToDollars.py Write a program that asks the user to enter an amount in pounds (£) and the program calculates and converts an amount in dollar ($) An example runs of the program: Please enter amount in pounds: XXX £ XXX are $ XXX\n"
   ]
  },
  {
   "cell_type": "code",
   "execution_count": 2,
   "id": "c7ac8bfa",
   "metadata": {},
   "outputs": [
    {
     "name": "stdout",
     "output_type": "stream",
     "text": [
      "Amrutha ST1001 Amrutha13@gmail.com\n"
     ]
    }
   ],
   "source": [
    "#Exercise 1 Write Python code that prints your name, student number and email address. An example runs of the program: Bob ST1001 bob@gmail.com \n",
    "print(\"Amrutha ST1001 Amrutha13@gmail.com\")"
   ]
  },
  {
   "cell_type": "code",
   "execution_count": 3,
   "id": "dedf44a5",
   "metadata": {},
   "outputs": [
    {
     "name": "stdout",
     "output_type": "stream",
     "text": [
      " \"Amrutha\" \"ST1001\" \"Amrutha13@gmail.com\" \n"
     ]
    }
   ],
   "source": [
    "#Write Python code that prints your name, student number and email address using escape sequences. An example runs of the program: Bob ST1001 bob@gmail.com\n",
    "print(\" \\\"Amrutha\\\" \\\"ST1001\\\" \\\"Amrutha13@gmail.com\\\" \")"
   ]
  },
  {
   "cell_type": "code",
   "execution_count": 12,
   "id": "e5a524b8",
   "metadata": {},
   "outputs": [
    {
     "name": "stdout",
     "output_type": "stream",
     "text": [
      "Addition of 7 & 4 is  11\n",
      "Subtraction of  7 & 4 is  3\n",
      "Multiplication of  7 & 4 is  28\n"
     ]
    }
   ],
   "source": [
    "#Exercise 3 Write Python code that add, subtract, multiply and divide the two numbers. You can use the two numbers 14 and 7. An example run of the program: 14 + 7 = 21 14 * 7 = 98 14 – 7 = 7 14 / 7 = 2\n",
    "print(\"Addition of 7 & 4 is \",7+4)\n",
    "print(\"Subtraction of  7 & 4 is \",7-4)\n",
    "print(\"Multiplication of  7 & 4 is \",7*4)\n"
   ]
  },
  {
   "cell_type": "code",
   "execution_count": 15,
   "id": "fa203393",
   "metadata": {},
   "outputs": [
    {
     "name": "stdout",
     "output_type": "stream",
     "text": [
      "1\n",
      "2\n",
      "3\n",
      "4\n",
      "5\n"
     ]
    }
   ],
   "source": [
    "# Exercise 4 Write Python code that displays the numbers from 1 to 5 as steps. An example runs of the program: 1 2 3 4 5 \n",
    "for i in range(1,6):\n",
    "    print(i)"
   ]
  },
  {
   "cell_type": "code",
   "execution_count": 17,
   "id": "d13dac4d",
   "metadata": {},
   "outputs": [
    {
     "name": "stdout",
     "output_type": "stream",
     "text": [
      " \"SDK\" stands for \"Software Development Kit\", whereas \"IDE\" stands for \"Integrated Development Environment\".\n"
     ]
    }
   ],
   "source": [
    "#Exercise 5 Write Python code that outputs the following sentence (including the quotation marks and line break) to the screen: An example runs of the program: \"SDK\" stands for \"Software Development Kit\", whereas \"IDE\" stands for \"Integrated Development Environment\".\n",
    "print(\" \\\"SDK\\\" stands for \\\"Software Development Kit\\\", whereas \\\"IDE\\\" stands for \\\"Integrated Development Environment\\\".\")"
   ]
  },
  {
   "cell_type": "code",
   "execution_count": 18,
   "id": "e9dc5c7f",
   "metadata": {},
   "outputs": [
    {
     "name": "stdout",
     "output_type": "stream",
     "text": [
      "python is an \"awesome\" language.\n"
     ]
    }
   ],
   "source": [
    "# Exercise 6 Practice and check the output print(\"python is an \\\"awesome\\\" language.\") print(\"python\\n\\t2023\") print('I\\'m from Entri.\\b') print(\"\\65\") print(\"\\x65\") print(\"Entri\", \"2023\", sep=\"\\n\") print(\"Entri\", \"2023\", sep=\"\\b\") print(\"Entri\", \"2023\", sep=\"*\", end=\"\\b\\b\\b\\b\")\n",
    "print(\"python is an \\\"awesome\\\" language.\") "
   ]
  },
  {
   "cell_type": "code",
   "execution_count": 19,
   "id": "b555f6e2",
   "metadata": {},
   "outputs": [
    {
     "name": "stdout",
     "output_type": "stream",
     "text": [
      "python\n",
      "\t2023\n"
     ]
    }
   ],
   "source": [
    "print(\"python\\n\\t2023\") "
   ]
  },
  {
   "cell_type": "code",
   "execution_count": 25,
   "id": "88607e5d",
   "metadata": {},
   "outputs": [
    {
     "name": "stdout",
     "output_type": "stream",
     "text": [
      "I'm from Entri.\b\n"
     ]
    }
   ],
   "source": [
    "print('I\\'m from Entri.\\b') "
   ]
  },
  {
   "cell_type": "code",
   "execution_count": 28,
   "id": "be656d61",
   "metadata": {},
   "outputs": [
    {
     "name": "stdout",
     "output_type": "stream",
     "text": [
      "5\n"
     ]
    }
   ],
   "source": [
    "print(\"\\65\")"
   ]
  },
  {
   "cell_type": "code",
   "execution_count": 31,
   "id": "bec0b9eb",
   "metadata": {},
   "outputs": [
    {
     "name": "stdout",
     "output_type": "stream",
     "text": [
      "b\n"
     ]
    }
   ],
   "source": [
    "print(\"\\x65\")"
   ]
  },
  {
   "cell_type": "code",
   "execution_count": 32,
   "id": "c47a3c06",
   "metadata": {},
   "outputs": [
    {
     "name": "stdout",
     "output_type": "stream",
     "text": [
      "Entri\n",
      "2023\n"
     ]
    }
   ],
   "source": [
    "print(\"Entri\", \"2023\", sep=\"\\n\")"
   ]
  },
  {
   "cell_type": "code",
   "execution_count": 33,
   "id": "f78daade",
   "metadata": {},
   "outputs": [
    {
     "name": "stdout",
     "output_type": "stream",
     "text": [
      "Entri\b2023\n"
     ]
    }
   ],
   "source": [
    "print(\"Entri\", \"2023\", sep=\"\\b\")"
   ]
  },
  {
   "cell_type": "code",
   "execution_count": 34,
   "id": "f6b087c2",
   "metadata": {},
   "outputs": [
    {
     "name": "stdout",
     "output_type": "stream",
     "text": [
      "Entri*2023\b\b\b\b"
     ]
    }
   ],
   "source": [
    " print(\"Entri\", \"2023\", sep=\"*\", end=\"\\b\\b\\b\\b\")"
   ]
  },
  {
   "cell_type": "code",
   "execution_count": 36,
   "id": "970071c1",
   "metadata": {},
   "outputs": [
    {
     "name": "stdout",
     "output_type": "stream",
     "text": [
      "<class 'int'>\n",
      "<class 'str'>\n",
      "<class 'float'>\n",
      "<class 'float'>\n"
     ]
    }
   ],
   "source": [
    "#Exercise 7 Define the variables below. Print the types of each variable. What is the sum of your variables? (Hint: use a type conversion function.) What datatype is the sum? num=23 textnum=\"57\" decimal=98.3\n",
    "num=23 \n",
    "textnum=\"57\" \n",
    "decimal=98.3\n",
    "print(type(num))\n",
    "print(type(textnum))\n",
    "print(type(decimal))\n",
    "sum=num+decimal\n",
    "print(type(sum))"
   ]
  },
  {
   "cell_type": "code",
   "execution_count": 40,
   "id": "533cf983",
   "metadata": {},
   "outputs": [
    {
     "name": "stdout",
     "output_type": "stream",
     "text": [
      "525600\n"
     ]
    }
   ],
   "source": [
    "#Exercise 8 calculate the number of minutes in a year using variables for each unit of time. print a statement that describes what your code does also. Create three variables to store no of days in a year, minute in a hour, hours in a day, then calculate the total minutes in a year and print the values (hint) total number of minutes in an year =No.of days in an year * Hours in a day * Minutes in an hour\n",
    "no_of_days_in_year=365\n",
    "min_in_hour=60\n",
    "hours_in_day=24\n",
    "total_minutes_in_year=no_of_days_in_year*min_in_hour*hours_in_day\n",
    "print(total_minutes_in_year)"
   ]
  },
  {
   "cell_type": "code",
   "execution_count": 41,
   "id": "9ae350f0",
   "metadata": {},
   "outputs": [
    {
     "name": "stdout",
     "output_type": "stream",
     "text": [
      "please enter your nameamrutha\n",
      "Hi amrutha welcome to Python programming :)\n"
     ]
    }
   ],
   "source": [
    "#Exercise 9 Write Python code that asks the user to enter his/her name and then output/prints his/her name with a greeting. An example runs of the program: Please enter you name: Tony Hi Tony, welcome to Python programming :) \n",
    "msg=input(\"please enter your name\")\n",
    "print(\"Hi\",msg,\"welcome to Python programming :)\")"
   ]
  },
  {
   "cell_type": "code",
   "execution_count": 42,
   "id": "3f73d319",
   "metadata": {},
   "outputs": [
    {
     "name": "stdout",
     "output_type": "stream",
     "text": [
      "Enter an amt in pounds1\n",
      "1.29\n"
     ]
    }
   ],
   "source": [
    "#Exercise 10 Name your file: PoundsToDollars.py Write a program that asks the user to enter an amount in pounds (£) and the program calculates and converts an amount in dollar ($) An example runs of the program: Please enter amount in pounds: XXX £ XXX are $ XXX\n",
    "amt_in_pounds=int(input(\"Enter an amt in pounds\"))\n",
    "amt_in_dollars=amt_in_pounds*1.29\n",
    "print(amt_in_dollars)"
   ]
  },
  {
   "cell_type": "code",
   "execution_count": null,
   "id": "00d2669f",
   "metadata": {},
   "outputs": [],
   "source": []
  }
 ],
 "metadata": {
  "kernelspec": {
   "display_name": "Python 3 (ipykernel)",
   "language": "python",
   "name": "python3"
  },
  "language_info": {
   "codemirror_mode": {
    "name": "ipython",
    "version": 3
   },
   "file_extension": ".py",
   "mimetype": "text/x-python",
   "name": "python",
   "nbconvert_exporter": "python",
   "pygments_lexer": "ipython3",
   "version": "3.9.12"
  }
 },
 "nbformat": 4,
 "nbformat_minor": 5
}
